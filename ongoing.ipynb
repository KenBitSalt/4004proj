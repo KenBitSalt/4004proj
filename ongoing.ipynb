{
 "cells": [
  {
   "cell_type": "markdown",
   "metadata": {},
   "source": [
    "# IEOR 4004 Group Project1: \n",
    "\n",
    "## Motivation:\n",
    "\n",
    "- determining the minimum amount of funding (in total) needed to meet their target for each area for childcare facility expansion\n",
    "- facilities: loc, cap"
   ]
  },
  {
   "cell_type": "code",
   "execution_count": 5,
   "metadata": {},
   "outputs": [],
   "source": [
    "import pandas as pd\n",
    "from haversine import haversine, Unit\n",
    "\n",
    "income = pd.read_csv(\"avg_individual_income.csv\")\n",
    "employment = pd.read_csv(\"employment_rate.csv\")\n",
    "pop = pd.read_csv(\"employment_rate.csv\")\n",
    "\n",
    "\n",
    "fac = pd.read_csv(\"child_care_regulated.csv\")\n",
    "\n",
    "\n",
    "def calc_distance(lat1, lon1, lat2, lon2): \n",
    "\n",
    "    # Coordinates in decimal degrees\n",
    "    lat1, lon1 = 40.807384, -73.963036  # Columbia University\n",
    "    lat2, lon2 = 40.8182, -73.9597  # Columbia Business School (New)\n",
    "\n",
    "    # Calculate the distance in kilometers\n",
    "    distance = haversine((lat1, lon1), (lat2, lon2), unit=Unit.MILES)\n",
    "    print(f\"The distance between the two points is {distance} mile\")"
   ]
  },
  {
   "cell_type": "code",
   "execution_count": 6,
   "metadata": {},
   "outputs": [
    {
     "name": "stdout",
     "output_type": "stream",
     "text": [
      "       facility_id program_type facility_status  \\\n",
      "0             2416          FDC    Registration   \n",
      "1             5555          FDC    Registration   \n",
      "2             9066          FDC    Registration   \n",
      "3            40163          DCC         License   \n",
      "4            41016         SACC    Registration   \n",
      "...            ...          ...             ...   \n",
      "15599       892735         GFDC         License   \n",
      "15600       897263         GFDC         License   \n",
      "15601       901966         GFDC         License   \n",
      "15602       892455         GFDC         License   \n",
      "15603       911779         GFDC         License   \n",
      "\n",
      "                                 facility_name              city  zip_code  \\\n",
      "0                              Bohrer, Barbara           Clinton     13323   \n",
      "1                                 Matey, Sally         Jamestown     14701   \n",
      "2                             Copeland, Denise  Wappingers Falls     12590   \n",
      "3                 Head Start of Rockland, Inc.             Nyack     10960   \n",
      "4                           School's Out, Inc.          Glenmont     12077   \n",
      "...                                        ...               ...       ...   \n",
      "15599  LITTLE LILIES GROUP FAMILY DAYCARE LLC.             Bronx     10462   \n",
      "15600                        Cummings, Darlene          Brooklyn     11205   \n",
      "15601                     Pascal Genao, Angela           Yonkers     10705   \n",
      "15602                 Warnakulasuriya, Sajeeka     Staten Island     10303   \n",
      "15603                      Tots R Us Childcare           Jamaica     11436   \n",
      "\n",
      "      school_district_name  infant_capacity  toddler_capacity  \\\n",
      "0                  Clinton                0                 0   \n",
      "1                Jamestown                0                 0   \n",
      "2               Wappingers                0                 0   \n",
      "3                    Nyack                0                10   \n",
      "4                Bethlehem                0                 0   \n",
      "...                    ...              ...               ...   \n",
      "15599             Bronx 11                0                 0   \n",
      "15600          Brooklyn 13                0                 0   \n",
      "15601              Yonkers                0                 0   \n",
      "15602          Richmond 31                0                 0   \n",
      "15603            Queens 27                0                 0   \n",
      "\n",
      "       preschool_capacity  school_age_capacity  children_capacity  \\\n",
      "0                       0                    2                  6   \n",
      "1                       0                    2                  6   \n",
      "2                       0                    2                  6   \n",
      "3                     110                    0                  0   \n",
      "4                       0                   75                  0   \n",
      "...                   ...                  ...                ...   \n",
      "15599                   0                    4                 12   \n",
      "15600                   0                    0                 10   \n",
      "15601                   0                    4                 12   \n",
      "15602                   0                    4                 12   \n",
      "15603                   0                    4                 12   \n",
      "\n",
      "       total_capacity   latitude  longitude  \n",
      "0                   8        NaN        NaN  \n",
      "1                   8        NaN        NaN  \n",
      "2                   8        NaN        NaN  \n",
      "3                 120  41.089425 -73.920413  \n",
      "4                  75  42.607043 -73.788606  \n",
      "...               ...        ...        ...  \n",
      "15599              16  40.854317 -73.864996  \n",
      "15600              10  40.696940 -73.977121  \n",
      "15601              16  40.910754 -73.893528  \n",
      "15602              16  40.628144 -74.156228  \n",
      "15603              16  40.674386 -73.791128  \n",
      "\n",
      "[15604 rows x 15 columns]\n"
     ]
    }
   ],
   "source": []
  }
 ],
 "metadata": {
  "kernelspec": {
   "display_name": "Python 3",
   "language": "python",
   "name": "python3"
  },
  "language_info": {
   "codemirror_mode": {
    "name": "ipython",
    "version": 3
   },
   "file_extension": ".py",
   "mimetype": "text/x-python",
   "name": "python",
   "nbconvert_exporter": "python",
   "pygments_lexer": "ipython3",
   "version": "3.10.14"
  }
 },
 "nbformat": 4,
 "nbformat_minor": 2
}
